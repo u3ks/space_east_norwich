{
 "cells": [
  {
   "cell_type": "markdown",
   "metadata": {
    "slideshow": {
     "slide_type": "notes"
    },
    "tags": []
   },
   "source": [
    "# Introduction to vector and raster analysis\n",
    "\n",
    "This notebook introduces concepts, tools and data processing necassarry to do quantative analysis with both raster and vector data. We will cover:\n",
    "\n",
    "- Vector data - buildings (polygons), streets (linestrings).\n",
    "- Raster data - land use\n",
    "- Combining vectors and rasters\n",
    "- Generating new data\n",
    "- Two ways of using Spatial Relationships\n",
    "- Machine Learning\n",
    "- Some cloud-native data formats\n",
    "\n",
    "The focus will be on quantatative urban planning, specifically urban morphometrics, which we define as:\n",
    "\n",
    "> A study of urban form through the means of quantitative assessment of its constituent elements - streets, buildings and their configurations.\n",
    "\n",
    "We focus on a simplified version of the work carried out in the [PRIMUS project](https://uscuni.org/himoc/). The project aims to deliniate areas with similar morphological character - with similar configurations of streets, buildings and the space between them. The similarity reflect the land use use, planning paradigms and conditions under which they were constructed.  The project covers every street and building in 6 contiguous European countries, ~120 million data points with 60 features each, so the tools and concepts scale.\n",
    "\n",
    "The principles and tools are used for completely different applications - ice velocity in Antarctica, population estimation, suggesting store locations, mobility analysis, insurance and others.\n",
    "\n",
    "The buildings and street data comes from Overturemaps, which is a superset of Openstreetmap in which other data is included. The land use  dataset used comes from the Corine Land Cover, specifically the uk subset. All the tools used in the analysis of this data are open, demonstrating what can be done with open-source software. \n",
    "\n",
    "For a more detailed look into this type work visit the ``momepy`` documentaiton: https://docs.momepy.org/.\n",
    "Or have a look at the full PRIMUS project: https://uscuni.org/himoc/ and related slides: https://uscuni.org/talks/slides/202506_ISUF.html#/title-slide ."
   ]
  },
  {
   "cell_type": "code",
   "execution_count": null,
   "metadata": {
    "slideshow": {
     "slide_type": "skip"
    },
    "tags": []
   },
   "outputs": [],
   "source": [
    "# import the requried libraries\n",
    "import geopandas as gpd\n",
    "import libpysal\n",
    "import matplotlib.pyplot as plt\n",
    "import numpy as np\n",
    "import momepy\n",
    "import shapely\n",
    "import neatnet\n",
    "from overturemaps import record_batch_reader"
   ]
  },
  {
   "cell_type": "markdown",
   "metadata": {},
   "source": [
    "We will focus the analysis on Norwich."
   ]
  },
  {
   "cell_type": "code",
   "execution_count": null,
   "metadata": {
    "slideshow": {
     "slide_type": "slide"
    },
    "tags": []
   },
   "outputs": [],
   "source": [
    "place = \"Norwich, UK\"\n",
    "epsg_uk = 27700"
   ]
  },
  {
   "cell_type": "code",
   "execution_count": null,
   "metadata": {},
   "outputs": [],
   "source": [
    "# norwich_centre = gpd.tools.geocode(place)\n",
    "\n",
    "norwich_centre = gpd.GeoSeries(\n",
    "    [shapely.Point(1.29626, 52.62858)], name=\"geometry\", crs=\"epsg:4326\"\n",
    ")"
   ]
  },
  {
   "cell_type": "code",
   "execution_count": null,
   "metadata": {},
   "outputs": [],
   "source": [
    "norwich_radius = norwich_centre.to_crs(epsg=epsg_uk).buffer(2_000)"
   ]
  },
  {
   "cell_type": "markdown",
   "metadata": {},
   "source": [
    "## Buildings\n",
    "\n",
    "One of the core elements of the analysis are detailed building footprints. To get the data, we first read all the possible information for buildings from Overture maps for our specified location. Since  Overture data is a combination of Openstreetmap buioldings, 3rd-party buildings and satelite derived buildings footprints we will need to carry out some preprocessing to adress data inconsistencies and quality problems.\n",
    "\n",
    "We are reading a small part of a large file with billions of buildings and streets and other geospatial objects. The file format is `geoparquet` and does not require any additional services to support partial reading of data - no servers, no code. You only need the file and to upload it in a compatible storage engine like S3 or Azure Blob Storage. You can write such files with ```gdf.to_parquet(...)```\n"
   ]
  },
  {
   "cell_type": "code",
   "execution_count": null,
   "metadata": {},
   "outputs": [],
   "source": [
    "\n",
    "\n",
    "# reader = record_batch_reader(\n",
    "#     \"building\", bbox=tuple(norwich_radius.to_crs(epsg=4326).bounds.values[0])\n",
    "# )\n",
    "# res = reader.read_all()\n",
    "# buildings = gpd.GeoDataFrame.from_arrow(res)\n",
    "# buildings = buildings.set_crs(epsg=4326)"
   ]
  },
  {
   "cell_type": "code",
   "execution_count": null,
   "metadata": {},
   "outputs": [],
   "source": [
    "# buildings.to_parquet('~/space_east/data/buildings.parquet')\n",
    "buildings = gpd.read_parquet('~/space_east/data/buildings.parquet')"
   ]
  },
  {
   "cell_type": "markdown",
   "metadata": {},
   "source": [
    "Next, we filter out unwated structures."
   ]
  },
  {
   "cell_type": "code",
   "execution_count": null,
   "metadata": {},
   "outputs": [],
   "source": [
    "\n",
    "unwanted = ['garage',\n",
    " 'garages',\n",
    " 'shed',\n",
    " 'bungalow',\n",
    " 'roof',\n",
    " 'parking',\n",
    " 'kiosk',\n",
    " 'hut',\n",
    " 'pavilion',\n",
    " 'greenhouse',\n",
    " 'cabin',\n",
    " 'toilets',\n",
    " 'farm_auxiliary',\n",
    " 'guardhouse']"
   ]
  },
  {
   "cell_type": "code",
   "execution_count": null,
   "metadata": {},
   "outputs": [],
   "source": [
    "buildings = buildings[~buildings['class'].isin(unwanted)]"
   ]
  },
  {
   "cell_type": "markdown",
   "metadata": {},
   "source": [
    "Next, we filter out polygons that are not single structures."
   ]
  },
  {
   "cell_type": "code",
   "execution_count": null,
   "metadata": {},
   "outputs": [],
   "source": [
    "buildings = buildings[buildings.geom_type == \"Polygon\"]"
   ]
  },
  {
   "cell_type": "markdown",
   "metadata": {},
   "source": [
    "Lastly, we drop structures that have an area of less than $25m^2$. Before we do this, we have to reproject the data. "
   ]
  },
  {
   "cell_type": "code",
   "execution_count": null,
   "metadata": {},
   "outputs": [],
   "source": [
    "buildings = buildings[[\"geometry\"]].to_crs(epsg=27700)\n",
    "buildings = buildings[buildings.area > 25].reset_index(drop=True)\n",
    "buildings.head()"
   ]
  },
  {
   "cell_type": "markdown",
   "metadata": {
    "slideshow": {
     "slide_type": "subslide"
    },
    "tags": []
   },
   "source": [
    "### Streets\n",
    "\n",
    "Similarly, the streets come from Overture data and are also a subset of OpenStreetMap."
   ]
  },
  {
   "cell_type": "code",
   "execution_count": 1,
   "metadata": {
    "slideshow": {
     "slide_type": "subslide"
    }
   },
   "outputs": [],
   "source": [
    "# reader = record_batch_reader(\n",
    "#     \"segment\", bbox=tuple(norwich_radius.to_crs(epsg=4326).bounds.values[0])\n",
    "# )\n",
    "# res = reader.read_all()\n",
    "# streets = gpd.GeoDataFrame.from_arrow(res)\n",
    "# streets = streets.set_crs(epsg=4326)\n",
    "# streets"
   ]
  },
  {
   "cell_type": "code",
   "execution_count": null,
   "metadata": {},
   "outputs": [],
   "source": [
    "# streets.to_parquet('~/space_east/data/streets.parquet')\n",
    "streets = gpd.read_parquet('~/space_east/data/streets.parquet')"
   ]
  },
  {
   "cell_type": "markdown",
   "metadata": {},
   "source": [
    "We carry out some preprocessing, similar to the buildings to drop unwated street segments such as tunnels, underground segments, or footpaths."
   ]
  },
  {
   "cell_type": "code",
   "execution_count": null,
   "metadata": {},
   "outputs": [],
   "source": [
    "## service road removed\n",
    "approved_roads = [\n",
    "    \"living_street\",\n",
    "    \"motorway\",\n",
    "    \"motorway_link\",\n",
    "    \"pedestrian\",\n",
    "    \"primary\",\n",
    "    \"primary_link\",\n",
    "    \"residential\",\n",
    "    \"secondary\",\n",
    "    \"secondary_link\",\n",
    "    \"tertiary\",\n",
    "    \"tertiary_link\",\n",
    "    \"trunk\",\n",
    "    \"trunk_link\",\n",
    "    \"unclassified\",\n",
    "]\n",
    "streets = streets[streets[\"class\"].isin(approved_roads)]"
   ]
  },
  {
   "cell_type": "code",
   "execution_count": null,
   "metadata": {},
   "outputs": [],
   "source": [
    "def to_drop_tunnel(row):\n",
    "    \"\"\"Find whether or not a road segment has a tunnel thats more than 50 metres.\"\"\"\n",
    "    tunnel_length = row.geometry.length\n",
    "    flags = row.road_flags\n",
    "\n",
    "    total_tunnel_proportion = -1\n",
    "    for flag in flags:\n",
    "        if \"values\" in flag and (\"is_tunnel\" in flag[\"values\"]):\n",
    "            # between could be missing to show the whole thing is a tunnel\n",
    "            total_tunnel_proportion = (\n",
    "                0.0 if total_tunnel_proportion < 0 else total_tunnel_proportion\n",
    "            )\n",
    "            # betweencould be None to indicate the whole thing is a tunnel\n",
    "            if (\"between\" in flag) and (flag[\"between\"] is not None):\n",
    "                s, e = flag[\"between\"][0], flag[\"between\"][1]\n",
    "                total_tunnel_proportion += e - s\n",
    "\n",
    "    return (total_tunnel_proportion * tunnel_length) > 50 or (total_tunnel_proportion == 0.0)\n",
    "\n",
    "## drop tunnels\n",
    "to_filter = streets.loc[~streets.road_flags.isna(),].to_crs(epsg=epsg_uk)\n",
    "tunnels_to_drop = to_filter.apply(to_drop_tunnel, axis=1)\n",
    "streets = streets.drop(to_filter[tunnels_to_drop].index)"
   ]
  },
  {
   "cell_type": "markdown",
   "metadata": {},
   "source": [
    "The downloaded streets reflect the routing structure of the network, however we are more interested in its overall physical representation. For example dual-carriageways should be repreesented as one line, and round-abouts as an intersection of roads. We generate this representation from the routing represetntation using the open source Python package `neatnet`."
   ]
  },
  {
   "cell_type": "code",
   "execution_count": null,
   "metadata": {},
   "outputs": [],
   "source": [
    "# streets.explore()"
   ]
  },
  {
   "cell_type": "code",
   "execution_count": null,
   "metadata": {},
   "outputs": [],
   "source": [
    "streets = streets.to_crs(epsg=epsg_uk)\n",
    "streets = streets.sort_values(\"id\")[[\"id\", \"geometry\", \"class\"]].reset_index(\n",
    "    drop=True\n",
    ")\n",
    "\n",
    "## simplify\n",
    "simplified = neatnet.neatify(\n",
    "    streets,\n",
    "    exclusion_mask=buildings.geometry,\n",
    "    artifact_threshold_fallback=7,\n",
    ")\n",
    "\n"
   ]
  },
  {
   "cell_type": "code",
   "execution_count": null,
   "metadata": {},
   "outputs": [],
   "source": [
    "streets = simplified.copy()"
   ]
  },
  {
   "cell_type": "code",
   "execution_count": null,
   "metadata": {},
   "outputs": [],
   "source": [
    "# streets.explore()"
   ]
  },
  {
   "cell_type": "markdown",
   "metadata": {},
   "source": [
    "## Issues with the OpenStreetmap data & Corine Land Cover. Combining Vectors and Rasters\n",
    "\n",
    "Very high quality data is required to do quantatative urban planning.In some places Openstreetmap/Overture has issues: \n",
    "\n",
    "1. Misclassified or missing tags. For example, some sheds are not defined as such. Some roofs and power lines are identified as buildings (sometimes this happens in cadastres).\n",
    "2. Deliniation discrepencies. For example, row houses get merged/split sometimes with reason, othertimes not. But in many cases the polyons do not reflect conssistently the physical character of the building.\n",
    "\n",
    "To adress these issues somewhat we will use [Corine land cover data](https://land.copernicus.eu/en/products/corine-land-cover). Corine land cover is  `a pan-European land cover and land use inventory with 44 thematic classes, ranging from broad forested areas to individual vineyards` . However, its classification in urban areas is limited to only two classes - continuous urban areas and discontinuous urban areas. \n",
    "\n",
    "We limit the analysis to these types of areas by dropping all buildings outside of them. This will help adress the first problem. "
   ]
  },
  {
   "cell_type": "code",
   "execution_count": null,
   "metadata": {},
   "outputs": [],
   "source": [
    "import xvec\n",
    "import rioxarray"
   ]
  },
  {
   "cell_type": "code",
   "execution_count": null,
   "metadata": {},
   "outputs": [],
   "source": [
    "# read only the region part of the raster data\n",
    "corine = rioxarray.open_rasterio('./data/U2018_CLC2018_V2020_20u1.tif')"
   ]
  },
  {
   "cell_type": "code",
   "execution_count": null,
   "metadata": {},
   "outputs": [],
   "source": [
    "corine"
   ]
  },
  {
   "cell_type": "code",
   "execution_count": null,
   "metadata": {},
   "outputs": [],
   "source": [
    "# setup geometry list to burn into the raster\n",
    "building_utm = buildings.copy()\n",
    "building_utm['num_index'] = np.arange(1, building_utm.shape[0] + 1)\n",
    "building_utm['geometry'] = building_utm.representative_point()\n",
    "building_utm = building_utm.to_crs(corine.rio.crs)\n",
    "\n",
    "# extract building classification from corine raster\n",
    "aggregated_iterative = corine.xvec.extract_points(\n",
    "    building_utm.geometry,\n",
    "    x_coords=\"x\",\n",
    "    y_coords=\"y\",\n",
    ")\n",
    "\n",
    "# append to the building dataframe and store in the  results array\n",
    "res = aggregated_iterative.to_pandas()\n",
    "res = gpd.GeoDataFrame(res.T.reset_index(), crs=building_utm.crs)\n",
    "res.columns = ['geometry', 'corine']\n",
    "res.name = ''"
   ]
  },
  {
   "cell_type": "code",
   "execution_count": null,
   "metadata": {},
   "outputs": [],
   "source": [
    "# subset data\n",
    "# 1 - Urban Continuous\n",
    "# 2 - Urban Discontinuous\n",
    "buildings = buildings[res.corine < 3].reset_index(drop=True)"
   ]
  },
  {
   "cell_type": "markdown",
   "metadata": {},
   "source": [
    "## Generated data"
   ]
  },
  {
   "cell_type": "markdown",
   "metadata": {
    "slideshow": {
     "slide_type": "subslide"
    }
   },
   "source": [
    "### Tessellation\n",
    "\n",
    "We can generate a spatial unit using morphological tessellation, which aims to capture the areas around each building and acts as the connection between buildings and streets.\n",
    "We call this unit morphological tessallation cell and approximates the idea of a plot.\n",
    "\n",
    "More information is available [here](https://strathprints.strath.ac.uk/70666/1/Fleischmann_etal_CEUS_2019_Morphological_tessellation_as_a_way_of_partitioning_space.pdf) ."
   ]
  },
  {
   "cell_type": "code",
   "execution_count": null,
   "metadata": {},
   "outputs": [],
   "source": [
    "import pandas as pd\n",
    "import shapely"
   ]
  },
  {
   "cell_type": "code",
   "execution_count": null,
   "metadata": {},
   "outputs": [],
   "source": [
    "idxs = (\n",
    "    pd.DataFrame(shapely.get_coordinates(buildings.representative_point()))\n",
    "    .drop_duplicates()\n",
    "    .index\n",
    ")\n",
    "\n",
    "limit = momepy.buffered_limit(buildings.loc[idxs], \"adaptive\")\n",
    "\n",
    "tessellation = momepy.morphological_tessellation(buildings, clip=limit)"
   ]
  },
  {
   "cell_type": "code",
   "execution_count": null,
   "metadata": {},
   "outputs": [],
   "source": []
  },
  {
   "cell_type": "markdown",
   "metadata": {},
   "source": [
    "OpenStreetMap data are often problematic due to low quality of some polygons. If some collapse, we get a mismatch between the length of buildings and the length of polygons."
   ]
  },
  {
   "cell_type": "code",
   "execution_count": null,
   "metadata": {},
   "outputs": [],
   "source": [
    "collapsed, _ = momepy.verify_tessellation(tessellation, buildings)"
   ]
  },
  {
   "cell_type": "code",
   "execution_count": null,
   "metadata": {},
   "outputs": [],
   "source": [
    "idxs = (\n",
    "    pd.DataFrame(shapely.get_coordinates(buildings.representative_point()))\n",
    "    .drop_duplicates()\n",
    "    .index\n",
    ")"
   ]
  },
  {
   "cell_type": "markdown",
   "metadata": {},
   "source": [
    "Better to drop affected buildings and re-create tessellation."
   ]
  },
  {
   "cell_type": "code",
   "execution_count": null,
   "metadata": {},
   "outputs": [],
   "source": [
    "buildings = buildings.drop(collapsed).reset_index(drop=True)\n",
    "idxs = (\n",
    "    pd.DataFrame(shapely.get_coordinates(buildings.representative_point()))\n",
    "    .drop_duplicates()\n",
    "    .index\n",
    ")\n",
    "limit = momepy.buffered_limit(buildings.iloc[idxs], \"adaptive\")\n",
    "\n",
    "tessellation = momepy.morphological_tessellation(buildings, clip=limit)"
   ]
  },
  {
   "cell_type": "markdown",
   "metadata": {},
   "source": [
    "Check the result."
   ]
  },
  {
   "cell_type": "code",
   "execution_count": null,
   "metadata": {},
   "outputs": [],
   "source": [
    "tessellation.shape[0] == buildings.shape[0]"
   ]
  },
  {
   "cell_type": "markdown",
   "metadata": {
    "slideshow": {
     "slide_type": "subslide"
    }
   },
   "source": [
    "### Link streets\n",
    "\n",
    "Link unique IDs of streets to buildings and tessellation cells based on the nearest neighbor join."
   ]
  },
  {
   "cell_type": "code",
   "execution_count": null,
   "metadata": {},
   "outputs": [],
   "source": [
    "buildings[\"street_index\"] = momepy.get_nearest_street(\n",
    "    buildings, streets, max_distance=50\n",
    ")\n",
    "buildings"
   ]
  },
  {
   "cell_type": "markdown",
   "metadata": {},
   "source": [
    "Aattach the network index to the tessellation as well."
   ]
  },
  {
   "cell_type": "code",
   "execution_count": null,
   "metadata": {},
   "outputs": [],
   "source": [
    "tessellation[\"street_index\"] = buildings[\"street_index\"]"
   ]
  },
  {
   "cell_type": "markdown",
   "metadata": {
    "slideshow": {
     "slide_type": "slide"
    }
   },
   "source": [
    "## Measure\n",
    "\n",
    "Measure individual morphometric characters. For details see the User Guide and the API reference."
   ]
  },
  {
   "cell_type": "markdown",
   "metadata": {},
   "source": [
    "### Dimensions"
   ]
  },
  {
   "cell_type": "code",
   "execution_count": null,
   "metadata": {
    "slideshow": {
     "slide_type": "subslide"
    }
   },
   "outputs": [],
   "source": [
    "buildings[\"building_area\"] = buildings.area\n",
    "tessellation[\"tess_area\"] = tessellation.area\n",
    "streets[\"length\"] = streets.length"
   ]
  },
  {
   "cell_type": "markdown",
   "metadata": {
    "slideshow": {
     "slide_type": "subslide"
    }
   },
   "source": [
    "### Shape"
   ]
  },
  {
   "cell_type": "code",
   "execution_count": null,
   "metadata": {
    "slideshow": {
     "slide_type": "subslide"
    }
   },
   "outputs": [],
   "source": [
    "buildings[\"eri\"] = momepy.equivalent_rectangular_index(buildings)\n",
    "buildings[\"elongation\"] = momepy.elongation(buildings)\n",
    "tessellation[\"convexity\"] = momepy.convexity(tessellation)\n",
    "streets[\"linearity\"] = momepy.linearity(streets)"
   ]
  },
  {
   "cell_type": "code",
   "execution_count": null,
   "metadata": {},
   "outputs": [],
   "source": [
    "# fig, ax = plt.subplots(1, 2, figsize=(24, 12))\n",
    "\n",
    "# buildings.plot(\"eri\", ax=ax[0], scheme=\"natural_breaks\", legend=True)\n",
    "# buildings.plot(\"elongation\", ax=ax[1], scheme=\"natural_breaks\", legend=True)\n",
    "\n",
    "# ax[0].set_axis_off()\n",
    "# ax[1].set_axis_off()"
   ]
  },
  {
   "cell_type": "code",
   "execution_count": null,
   "metadata": {},
   "outputs": [],
   "source": [
    "# fig, ax = plt.subplots(1, 2, figsize=(24, 12))\n",
    "\n",
    "# tessellation.plot(\"convexity\", ax=ax[0], scheme=\"natural_breaks\", legend=True)\n",
    "# streets.plot(\"linearity\", ax=ax[1], scheme=\"natural_breaks\", legend=True)\n",
    "\n",
    "# ax[0].set_axis_off()\n",
    "# ax[1].set_axis_off()"
   ]
  },
  {
   "cell_type": "markdown",
   "metadata": {
    "slideshow": {
     "slide_type": "subslide"
    }
   },
   "source": [
    "### Spatial distribution"
   ]
  },
  {
   "cell_type": "code",
   "execution_count": null,
   "metadata": {
    "slideshow": {
     "slide_type": "subslide"
    }
   },
   "outputs": [],
   "source": [
    "buildings[\"shared_walls\"] = momepy.shared_walls(buildings) / buildings.length\n",
    "buildings.plot(\n",
    "    \"shared_walls\", figsize=(12, 12), scheme=\"natural_breaks\", legend=True\n",
    ").set_axis_off()"
   ]
  },
  {
   "cell_type": "markdown",
   "metadata": {},
   "source": [
    "Generate spatial graph using `libpysal`."
   ]
  },
  {
   "cell_type": "code",
   "execution_count": null,
   "metadata": {
    "slideshow": {
     "slide_type": "subslide"
    }
   },
   "outputs": [],
   "source": [
    "queen_1 = libpysal.graph.Graph.build_contiguity(tessellation, rook=False)"
   ]
  },
  {
   "cell_type": "code",
   "execution_count": null,
   "metadata": {},
   "outputs": [],
   "source": [
    "queen_1"
   ]
  },
  {
   "cell_type": "markdown",
   "metadata": {},
   "source": [
    "Due to floating point errors and data quality there are coverage issues with the polygons. Buildings that should have shared walls overlap .001 cm or overlap only at the corners, or have a miniscule distance between them, for example. The same is true for tessellation cells. To account for this we can use fuzzy contiguity when building a graph of spatial relationships."
   ]
  },
  {
   "cell_type": "code",
   "execution_count": null,
   "metadata": {},
   "outputs": [],
   "source": [
    "queen_1 = libpysal.graph.Graph.build_fuzzy_contiguity(tessellation, buffer=.5)\n",
    "queen_1"
   ]
  },
  {
   "cell_type": "code",
   "execution_count": null,
   "metadata": {
    "slideshow": {
     "slide_type": "subslide"
    },
    "tags": []
   },
   "outputs": [],
   "source": [
    "tessellation[\"neighbors\"] = momepy.neighbors(\n",
    "    tessellation, queen_1, weighted=True\n",
    ")\n",
    "tessellation[\"covered_area\"] = queen_1.describe(tessellation.area)[\"sum\"]\n",
    "buildings[\"neighbor_distance\"] = momepy.neighbor_distance(buildings, queen_1)"
   ]
  },
  {
   "cell_type": "code",
   "execution_count": null,
   "metadata": {},
   "outputs": [],
   "source": [
    "# fig, ax = plt.subplots(1, 2, figsize=(24, 12))\n",
    "\n",
    "# buildings.plot(\n",
    "#     \"neighbor_distance\", ax=ax[0], scheme=\"natural_breaks\", legend=True\n",
    "# )\n",
    "# tessellation.plot(\n",
    "#     \"covered_area\", ax=ax[1], scheme=\"natural_breaks\", legend=True\n",
    "# )\n",
    "\n",
    "# ax[0].set_axis_off()\n",
    "# ax[1].set_axis_off()"
   ]
  },
  {
   "cell_type": "code",
   "execution_count": null,
   "metadata": {
    "slideshow": {
     "slide_type": "subslide"
    }
   },
   "outputs": [],
   "source": [
    "queen_3 = queen_1.higher_order(3)\n",
    "buildings_q1 = libpysal.graph.Graph.build_contiguity(buildings, rook=False)\n",
    "\n",
    "buildings[\"interbuilding_distance\"] = momepy.mean_interbuilding_distance(\n",
    "    buildings, queen_1, queen_3\n",
    ")\n",
    "buildings[\"adjacency\"] = momepy.building_adjacency(buildings_q1, queen_3)"
   ]
  },
  {
   "cell_type": "code",
   "execution_count": null,
   "metadata": {},
   "outputs": [],
   "source": [
    "# fig, ax = plt.subplots(1, 2, figsize=(24, 12))\n",
    "\n",
    "# buildings.plot(\n",
    "#     \"interbuilding_distance\", ax=ax[0], scheme=\"natural_breaks\", legend=True\n",
    "# )\n",
    "# buildings.plot(\"adjacency\", ax=ax[1], scheme=\"natural_breaks\", legend=True)\n",
    "\n",
    "# ax[0].set_axis_off()\n",
    "# ax[1].set_axis_off()"
   ]
  },
  {
   "cell_type": "code",
   "execution_count": null,
   "metadata": {
    "slideshow": {
     "slide_type": "subslide"
    }
   },
   "outputs": [],
   "source": [
    "profile = momepy.street_profile(streets, buildings)\n",
    "streets[profile.columns] = profile"
   ]
  },
  {
   "cell_type": "code",
   "execution_count": null,
   "metadata": {},
   "outputs": [],
   "source": [
    "# fig, ax = plt.subplots(1, 3, figsize=(24, 12))\n",
    "\n",
    "# streets.plot(\"width\", ax=ax[0], scheme=\"natural_breaks\", legend=True)\n",
    "# streets.plot(\"width_deviation\", ax=ax[1], scheme=\"natural_breaks\", legend=True)\n",
    "# streets.plot(\"openness\", ax=ax[2], scheme=\"natural_breaks\", legend=True)\n",
    "\n",
    "# ax[0].set_axis_off()\n",
    "# ax[1].set_axis_off()\n",
    "# ax[2].set_axis_off()"
   ]
  },
  {
   "cell_type": "markdown",
   "metadata": {
    "slideshow": {
     "slide_type": "subslide"
    }
   },
   "source": [
    "### Intensity"
   ]
  },
  {
   "cell_type": "code",
   "execution_count": null,
   "metadata": {
    "slideshow": {
     "slide_type": "subslide"
    }
   },
   "outputs": [],
   "source": [
    "tessellation[\"car\"] = buildings.area / tessellation.area\n",
    "# tessellation.plot(\n",
    "#     \"car\", figsize=(12, 12), vmin=0, vmax=1, legend=True\n",
    "# ).set_axis_off()"
   ]
  },
  {
   "cell_type": "markdown",
   "metadata": {
    "slideshow": {
     "slide_type": "subslide"
    }
   },
   "source": [
    "### Connectivity"
   ]
  },
  {
   "cell_type": "code",
   "execution_count": null,
   "metadata": {
    "slideshow": {
     "slide_type": "subslide"
    }
   },
   "outputs": [],
   "source": [
    "graph = momepy.gdf_to_nx(streets)\n",
    "graph = momepy.node_degree(graph)\n",
    "graph = momepy.closeness_centrality(graph, radius=400, distance=\"mm_len\")\n",
    "graph = momepy.meshedness(graph, radius=400, distance=\"mm_len\")\n",
    "nodes, edges = momepy.nx_to_gdf(graph)"
   ]
  },
  {
   "cell_type": "code",
   "execution_count": null,
   "metadata": {},
   "outputs": [],
   "source": [
    "# fig, ax = plt.subplots(1, 3, figsize=(24, 12))\n",
    "\n",
    "# nodes.plot(\n",
    "#     \"degree\", ax=ax[0], scheme=\"natural_breaks\", legend=True, markersize=1\n",
    "# )\n",
    "# nodes.plot(\n",
    "#     \"closeness\",\n",
    "#     ax=ax[1],\n",
    "#     scheme=\"natural_breaks\",\n",
    "#     legend=True,\n",
    "#     markersize=1,\n",
    "#     legend_kwds={\"fmt\": \"{:.6f}\"},\n",
    "# )\n",
    "# nodes.plot(\n",
    "#     \"meshedness\", ax=ax[2], scheme=\"natural_breaks\", legend=True, markersize=1\n",
    "# )\n",
    "\n",
    "# ax[0].set_axis_off()\n",
    "# ax[1].set_axis_off()\n",
    "# ax[2].set_axis_off()"
   ]
  },
  {
   "cell_type": "code",
   "execution_count": null,
   "metadata": {
    "slideshow": {
     "slide_type": "subslide"
    }
   },
   "outputs": [],
   "source": [
    "buildings[\"edge_index\"] = momepy.get_nearest_street(buildings, edges)\n",
    "buildings[\"node_index\"] = momepy.get_nearest_node(\n",
    "    buildings, nodes, edges, buildings[\"edge_index\"]\n",
    ")"
   ]
  },
  {
   "cell_type": "markdown",
   "metadata": {},
   "source": [
    "Link all data together (to tessellation cells or buildings)."
   ]
  },
  {
   "cell_type": "code",
   "execution_count": null,
   "metadata": {},
   "outputs": [],
   "source": [
    "tessellation.head()"
   ]
  },
  {
   "cell_type": "code",
   "execution_count": null,
   "metadata": {},
   "outputs": [],
   "source": [
    "buildings.head()"
   ]
  },
  {
   "cell_type": "code",
   "execution_count": null,
   "metadata": {
    "slideshow": {
     "slide_type": "subslide"
    }
   },
   "outputs": [],
   "source": [
    "tessellation[buildings.columns.drop([\"geometry\", \"street_index\"])] = (\n",
    "    buildings.drop(columns=[\"geometry\", \"street_index\"])\n",
    ")\n",
    "merged = tessellation.merge(\n",
    "    edges.drop(columns=\"geometry\"),\n",
    "    left_on=\"edge_index\",\n",
    "    right_index=True,\n",
    "    how=\"left\",\n",
    ")\n",
    "merged = merged.merge(\n",
    "    nodes.drop(columns=\"geometry\"),\n",
    "    left_on=\"node_index\",\n",
    "    right_index=True,\n",
    "    how=\"left\",\n",
    ")"
   ]
  },
  {
   "cell_type": "code",
   "execution_count": null,
   "metadata": {
    "slideshow": {
     "slide_type": "subslide"
    }
   },
   "outputs": [],
   "source": [
    "merged.columns"
   ]
  },
  {
   "cell_type": "code",
   "execution_count": null,
   "metadata": {},
   "outputs": [],
   "source": [
    "attr_columns = merged.columns.drop(\n",
    "    [\n",
    "        \"street_index\",\n",
    "        \"node_index\",\n",
    "        \"edge_index\",\n",
    "        \"nodeID\",\n",
    "        \"mm_len\",\n",
    "        \"node_start\",\n",
    "        \"node_end\",\n",
    "        \"geometry\",\n",
    "        \"x\",\n",
    "        \"y\",\n",
    "        \"id\",\n",
    "        \"class\",\n",
    "        \"_status\",\n",
    "        # \"corine\"\n",
    "        # \"shared_walls\",\n",
    "        # \"adjacency\"\n",
    "    ]\n",
    ")"
   ]
  },
  {
   "cell_type": "code",
   "execution_count": null,
   "metadata": {},
   "outputs": [],
   "source": [
    "merged[attr_columns]"
   ]
  },
  {
   "cell_type": "markdown",
   "metadata": {},
   "source": [
    "### Spatial context\n",
    "\n",
    "We also calculate statistics to understand the context around each building, by measuring first, second and third quartile of distribution of values within an area around each building. This is one way of using the spatial relationships of the data - using them to calculate features."
   ]
  },
  {
   "cell_type": "code",
   "execution_count": null,
   "metadata": {},
   "outputs": [],
   "source": [
    "percentiles = []\n",
    "for column in attr_columns:\n",
    "    perc = momepy.percentile(merged[column], queen_3)\n",
    "    perc.columns = [f\"{column}_\" + str(x) for x in perc.columns]\n",
    "    percentiles.append(perc)"
   ]
  },
  {
   "cell_type": "code",
   "execution_count": null,
   "metadata": {},
   "outputs": [],
   "source": [
    "percentiles_joined = pd.concat(percentiles, axis=1)\n",
    "percentiles_joined.head()"
   ]
  },
  {
   "cell_type": "code",
   "execution_count": null,
   "metadata": {},
   "outputs": [],
   "source": [
    "fig, ax = plt.subplots(1, 2, figsize=(24, 12))\n",
    "\n",
    "tessellation.plot(\"convexity\", ax=ax[0], scheme=\"natural_breaks\", legend=True)\n",
    "merged.plot(\n",
    "    percentiles_joined[\"convexity_50\"].values,\n",
    "    ax=ax[1],\n",
    "    scheme=\"natural_breaks\",\n",
    "    legend=True,\n",
    ")\n",
    "\n",
    "ax[0].set_axis_off()\n",
    "ax[1].set_axis_off()"
   ]
  },
  {
   "cell_type": "markdown",
   "metadata": {},
   "source": [
    "## Unsupervised machine learning\n",
    "\n",
    "## Morphotopes\n",
    "\n",
    "The first step in the analysis is to group our elements into morphotopes using the `SA3` algorithm. Morphotopes are defined as :\n",
    "\n",
    "> “the smallest urban locality obtaining distinctive character among their neighbours from their particular combination of constituent morphological elements.”\n",
    "\n",
    "We do this to create contiguous units which can act as the base of the hierarchical analysis. \n",
    "\n",
    "This is also an example of the second way of using spatial relationships - directly embeding them in the algorithm."
   ]
  },
  {
   "cell_type": "code",
   "execution_count": null,
   "metadata": {},
   "outputs": [],
   "source": [
    "from spopt.region import SA3\n",
    "import numpy\n",
    "from sklearn.preprocessing import StandardScaler"
   ]
  },
  {
   "cell_type": "code",
   "execution_count": null,
   "metadata": {},
   "outputs": [],
   "source": [
    "attr_columns"
   ]
  },
  {
   "cell_type": "code",
   "execution_count": null,
   "metadata": {},
   "outputs": [],
   "source": [
    "# res = StandardScaler().fit_transform(merged[attr_columns])\n",
    "# standardised_data = pd.DataFrame(res, columns=attr_columns).fillna(0)"
   ]
  },
  {
   "cell_type": "code",
   "execution_count": null,
   "metadata": {},
   "outputs": [],
   "source": [
    "res = StandardScaler().fit_transform(percentiles_joined)\n",
    "standardised_data = pd.DataFrame(res, columns=percentiles_joined.columns).fillna(0)"
   ]
  },
  {
   "cell_type": "code",
   "execution_count": null,
   "metadata": {},
   "outputs": [],
   "source": [
    "clusterer = SA3(\n",
    "    standardised_data,\n",
    "    queen_1,\n",
    "    standardised_data.columns,\n",
    "    min_cluster_size=75,\n",
    "    extraction=\"eom\",\n",
    "    linkage='complete'\n",
    ")\n",
    "clusterer.solve()\n",
    "clusterer.labels_.value_counts()"
   ]
  },
  {
   "cell_type": "markdown",
   "metadata": {},
   "source": [
    "## Clustering\n",
    "\n",
    "Now we can use the morphotopes to create a hierarchical typology of urban structure. To do this we use simple dendrogram clustering models.\n"
   ]
  },
  {
   "cell_type": "code",
   "execution_count": null,
   "metadata": {},
   "outputs": [],
   "source": [
    "from scipy.cluster.hierarchy import linkage, dendrogram, fcluster"
   ]
  },
  {
   "cell_type": "code",
   "execution_count": null,
   "metadata": {},
   "outputs": [],
   "source": [
    "morph_clusters = clusterer.labels_\n",
    "\n",
    "# morph_clusters = final_clusters.values"
   ]
  },
  {
   "cell_type": "code",
   "execution_count": null,
   "metadata": {},
   "outputs": [],
   "source": [
    "grouped_data = standardised_data.groupby(morph_clusters).median()\n",
    "if -1 in grouped_data.index:\n",
    "    grouped_data = grouped_data.iloc[1:]"
   ]
  },
  {
   "cell_type": "code",
   "execution_count": null,
   "metadata": {},
   "outputs": [],
   "source": [
    "linkage_matrix = linkage(grouped_data, method='complete')"
   ]
  },
  {
   "cell_type": "code",
   "execution_count": null,
   "metadata": {},
   "outputs": [],
   "source": [
    "_ = dendrogram(linkage_matrix)"
   ]
  },
  {
   "cell_type": "code",
   "execution_count": null,
   "metadata": {},
   "outputs": [],
   "source": [
    "morphotope_labels = fcluster(linkage_matrix, t=7.5, criterion='distance')\n",
    "pd.Series(morphotope_labels).value_counts()"
   ]
  },
  {
   "cell_type": "code",
   "execution_count": null,
   "metadata": {},
   "outputs": [],
   "source": [
    "final_labels = pd.Series(morph_clusters).replace(pd.Series(morphotope_labels, index=grouped_data.index).to_dict())\n",
    "final_labels.value_counts()"
   ]
  },
  {
   "cell_type": "code",
   "execution_count": null,
   "metadata": {},
   "outputs": [],
   "source": [
    "# assign noise to closest cluster\n",
    "\n",
    "from sklearn.neighbors import KDTree\n",
    "\n",
    "cluster_centres = standardised_data.groupby(final_labels).median().iloc[1:]\n",
    "tree = KDTree(cluster_centres)\n",
    "dists, idxs = tree.query(standardised_data[final_labels == -1], k=1)\n",
    "final_labels[final_labels == -1] = idxs[:, 0] + 1"
   ]
  },
  {
   "cell_type": "code",
   "execution_count": null,
   "metadata": {},
   "outputs": [],
   "source": [
    "buildings[[\"geometry\"]].explore(\n",
    "    column=final_labels, categorical=True, legend=True\n",
    ")"
   ]
  },
  {
   "cell_type": "code",
   "execution_count": null,
   "metadata": {},
   "outputs": [],
   "source": [
    "merged[attr_columns].groupby(final_labels).median().T.iloc[:, ].style.background_gradient(axis=1)"
   ]
  }
 ],
 "metadata": {
  "celltoolbar": "Slideshow",
  "kernelspec": {
   "display_name": "Python 3 (ipykernel)",
   "language": "python",
   "name": "python3"
  },
  "language_info": {
   "codemirror_mode": {
    "name": "ipython",
    "version": 3
   },
   "file_extension": ".py",
   "mimetype": "text/x-python",
   "name": "python",
   "nbconvert_exporter": "python",
   "pygments_lexer": "ipython3",
   "version": "3.13.5"
  },
  "widgets": {
   "application/vnd.jupyter.widget-state+json": {
    "state": {
     "032228afc14b420c84f0cfff984b7540": {
      "model_module": "@jupyter-widgets/controls",
      "model_module_version": "2.0.0",
      "model_name": "HTMLStyleModel",
      "state": {
       "_model_module": "@jupyter-widgets/controls",
       "_model_module_version": "2.0.0",
       "_model_name": "HTMLStyleModel",
       "_view_count": null,
       "_view_module": "@jupyter-widgets/base",
       "_view_module_version": "2.0.0",
       "_view_name": "StyleView",
       "background": null,
       "description_width": "",
       "font_size": null,
       "text_color": null
      }
     },
     "055aec2e80e642a39092fc813ed49e2b": {
      "model_module": "@jupyter-widgets/controls",
      "model_module_version": "2.0.0",
      "model_name": "ProgressStyleModel",
      "state": {
       "_model_module": "@jupyter-widgets/controls",
       "_model_module_version": "2.0.0",
       "_model_name": "ProgressStyleModel",
       "_view_count": null,
       "_view_module": "@jupyter-widgets/base",
       "_view_module_version": "2.0.0",
       "_view_name": "StyleView",
       "bar_color": null,
       "description_width": ""
      }
     },
     "0703aa84cab747ac8d5db0c6902917bf": {
      "model_module": "@jupyter-widgets/controls",
      "model_module_version": "2.0.0",
      "model_name": "ProgressStyleModel",
      "state": {
       "_model_module": "@jupyter-widgets/controls",
       "_model_module_version": "2.0.0",
       "_model_name": "ProgressStyleModel",
       "_view_count": null,
       "_view_module": "@jupyter-widgets/base",
       "_view_module_version": "2.0.0",
       "_view_name": "StyleView",
       "bar_color": null,
       "description_width": ""
      }
     },
     "1285c8b521cd42c2be7f6e75b97f3bb4": {
      "model_module": "@jupyter-widgets/base",
      "model_module_version": "2.0.0",
      "model_name": "LayoutModel",
      "state": {
       "_model_module": "@jupyter-widgets/base",
       "_model_module_version": "2.0.0",
       "_model_name": "LayoutModel",
       "_view_count": null,
       "_view_module": "@jupyter-widgets/base",
       "_view_module_version": "2.0.0",
       "_view_name": "LayoutView",
       "align_content": null,
       "align_items": null,
       "align_self": null,
       "border_bottom": null,
       "border_left": null,
       "border_right": null,
       "border_top": null,
       "bottom": null,
       "display": null,
       "flex": null,
       "flex_flow": null,
       "grid_area": null,
       "grid_auto_columns": null,
       "grid_auto_flow": null,
       "grid_auto_rows": null,
       "grid_column": null,
       "grid_gap": null,
       "grid_row": null,
       "grid_template_areas": null,
       "grid_template_columns": null,
       "grid_template_rows": null,
       "height": null,
       "justify_content": null,
       "justify_items": null,
       "left": null,
       "margin": null,
       "max_height": null,
       "max_width": null,
       "min_height": null,
       "min_width": null,
       "object_fit": null,
       "object_position": null,
       "order": null,
       "overflow": null,
       "padding": null,
       "right": null,
       "top": null,
       "visibility": null,
       "width": null
      }
     },
     "3156659190dd490399533752bbbcf6e0": {
      "model_module": "@jupyter-widgets/controls",
      "model_module_version": "2.0.0",
      "model_name": "FloatProgressModel",
      "state": {
       "_dom_classes": [],
       "_model_module": "@jupyter-widgets/controls",
       "_model_module_version": "2.0.0",
       "_model_name": "FloatProgressModel",
       "_view_count": null,
       "_view_module": "@jupyter-widgets/controls",
       "_view_module_version": "2.0.0",
       "_view_name": "ProgressView",
       "bar_style": "success",
       "description": "",
       "description_allow_html": false,
       "layout": "IPY_MODEL_ffa21cc5f11a43ec951888b03798be8a",
       "max": 746,
       "min": 0,
       "orientation": "horizontal",
       "style": "IPY_MODEL_0703aa84cab747ac8d5db0c6902917bf",
       "tabbable": null,
       "tooltip": null,
       "value": 746
      }
     },
     "3d9a154938a14849b377c545fa4fa89a": {
      "model_module": "@jupyter-widgets/base",
      "model_module_version": "2.0.0",
      "model_name": "LayoutModel",
      "state": {
       "_model_module": "@jupyter-widgets/base",
       "_model_module_version": "2.0.0",
       "_model_name": "LayoutModel",
       "_view_count": null,
       "_view_module": "@jupyter-widgets/base",
       "_view_module_version": "2.0.0",
       "_view_name": "LayoutView",
       "align_content": null,
       "align_items": null,
       "align_self": null,
       "border_bottom": null,
       "border_left": null,
       "border_right": null,
       "border_top": null,
       "bottom": null,
       "display": null,
       "flex": null,
       "flex_flow": null,
       "grid_area": null,
       "grid_auto_columns": null,
       "grid_auto_flow": null,
       "grid_auto_rows": null,
       "grid_column": null,
       "grid_gap": null,
       "grid_row": null,
       "grid_template_areas": null,
       "grid_template_columns": null,
       "grid_template_rows": null,
       "height": null,
       "justify_content": null,
       "justify_items": null,
       "left": null,
       "margin": null,
       "max_height": null,
       "max_width": null,
       "min_height": null,
       "min_width": null,
       "object_fit": null,
       "object_position": null,
       "order": null,
       "overflow": null,
       "padding": null,
       "right": null,
       "top": null,
       "visibility": null,
       "width": null
      }
     },
     "43c6a6fac8c24c3b8cd14ad19602a761": {
      "model_module": "@jupyter-widgets/controls",
      "model_module_version": "2.0.0",
      "model_name": "HTMLModel",
      "state": {
       "_dom_classes": [],
       "_model_module": "@jupyter-widgets/controls",
       "_model_module_version": "2.0.0",
       "_model_name": "HTMLModel",
       "_view_count": null,
       "_view_module": "@jupyter-widgets/controls",
       "_view_module_version": "2.0.0",
       "_view_name": "HTMLView",
       "description": "",
       "description_allow_html": false,
       "layout": "IPY_MODEL_f13580af37eb4ff99ffa1894aa7cacb5",
       "placeholder": "​",
       "style": "IPY_MODEL_bd17abe3369b4ed785e2f07ef068138f",
       "tabbable": null,
       "tooltip": null,
       "value": " 746/746 [00:00&lt;00:00, 2558.44it/s]"
      }
     },
     "64a4f60758fe47b69ab534a1a279c6a9": {
      "model_module": "@jupyter-widgets/controls",
      "model_module_version": "2.0.0",
      "model_name": "HBoxModel",
      "state": {
       "_dom_classes": [],
       "_model_module": "@jupyter-widgets/controls",
       "_model_module_version": "2.0.0",
       "_model_name": "HBoxModel",
       "_view_count": null,
       "_view_module": "@jupyter-widgets/controls",
       "_view_module_version": "2.0.0",
       "_view_name": "HBoxView",
       "box_style": "",
       "children": [
        "IPY_MODEL_f8d7b905a86f40048730c2b15430f342",
        "IPY_MODEL_3156659190dd490399533752bbbcf6e0",
        "IPY_MODEL_43c6a6fac8c24c3b8cd14ad19602a761"
       ],
       "layout": "IPY_MODEL_1285c8b521cd42c2be7f6e75b97f3bb4",
       "tabbable": null,
       "tooltip": null
      }
     },
     "696ced44b7db44ccaf080fddd1c725b7": {
      "model_module": "@jupyter-widgets/base",
      "model_module_version": "2.0.0",
      "model_name": "LayoutModel",
      "state": {
       "_model_module": "@jupyter-widgets/base",
       "_model_module_version": "2.0.0",
       "_model_name": "LayoutModel",
       "_view_count": null,
       "_view_module": "@jupyter-widgets/base",
       "_view_module_version": "2.0.0",
       "_view_name": "LayoutView",
       "align_content": null,
       "align_items": null,
       "align_self": null,
       "border_bottom": null,
       "border_left": null,
       "border_right": null,
       "border_top": null,
       "bottom": null,
       "display": null,
       "flex": null,
       "flex_flow": null,
       "grid_area": null,
       "grid_auto_columns": null,
       "grid_auto_flow": null,
       "grid_auto_rows": null,
       "grid_column": null,
       "grid_gap": null,
       "grid_row": null,
       "grid_template_areas": null,
       "grid_template_columns": null,
       "grid_template_rows": null,
       "height": null,
       "justify_content": null,
       "justify_items": null,
       "left": null,
       "margin": null,
       "max_height": null,
       "max_width": null,
       "min_height": null,
       "min_width": null,
       "object_fit": null,
       "object_position": null,
       "order": null,
       "overflow": null,
       "padding": null,
       "right": null,
       "top": null,
       "visibility": null,
       "width": null
      }
     },
     "732427722f484af4bfd4e3a48ec04c86": {
      "model_module": "@jupyter-widgets/base",
      "model_module_version": "2.0.0",
      "model_name": "LayoutModel",
      "state": {
       "_model_module": "@jupyter-widgets/base",
       "_model_module_version": "2.0.0",
       "_model_name": "LayoutModel",
       "_view_count": null,
       "_view_module": "@jupyter-widgets/base",
       "_view_module_version": "2.0.0",
       "_view_name": "LayoutView",
       "align_content": null,
       "align_items": null,
       "align_self": null,
       "border_bottom": null,
       "border_left": null,
       "border_right": null,
       "border_top": null,
       "bottom": null,
       "display": null,
       "flex": null,
       "flex_flow": null,
       "grid_area": null,
       "grid_auto_columns": null,
       "grid_auto_flow": null,
       "grid_auto_rows": null,
       "grid_column": null,
       "grid_gap": null,
       "grid_row": null,
       "grid_template_areas": null,
       "grid_template_columns": null,
       "grid_template_rows": null,
       "height": null,
       "justify_content": null,
       "justify_items": null,
       "left": null,
       "margin": null,
       "max_height": null,
       "max_width": null,
       "min_height": null,
       "min_width": null,
       "object_fit": null,
       "object_position": null,
       "order": null,
       "overflow": null,
       "padding": null,
       "right": null,
       "top": null,
       "visibility": null,
       "width": null
      }
     },
     "975c53ee2d464e8daeaff8653e0600c4": {
      "model_module": "@jupyter-widgets/base",
      "model_module_version": "2.0.0",
      "model_name": "LayoutModel",
      "state": {
       "_model_module": "@jupyter-widgets/base",
       "_model_module_version": "2.0.0",
       "_model_name": "LayoutModel",
       "_view_count": null,
       "_view_module": "@jupyter-widgets/base",
       "_view_module_version": "2.0.0",
       "_view_name": "LayoutView",
       "align_content": null,
       "align_items": null,
       "align_self": null,
       "border_bottom": null,
       "border_left": null,
       "border_right": null,
       "border_top": null,
       "bottom": null,
       "display": null,
       "flex": null,
       "flex_flow": null,
       "grid_area": null,
       "grid_auto_columns": null,
       "grid_auto_flow": null,
       "grid_auto_rows": null,
       "grid_column": null,
       "grid_gap": null,
       "grid_row": null,
       "grid_template_areas": null,
       "grid_template_columns": null,
       "grid_template_rows": null,
       "height": null,
       "justify_content": null,
       "justify_items": null,
       "left": null,
       "margin": null,
       "max_height": null,
       "max_width": null,
       "min_height": null,
       "min_width": null,
       "object_fit": null,
       "object_position": null,
       "order": null,
       "overflow": null,
       "padding": null,
       "right": null,
       "top": null,
       "visibility": null,
       "width": null
      }
     },
     "bd17abe3369b4ed785e2f07ef068138f": {
      "model_module": "@jupyter-widgets/controls",
      "model_module_version": "2.0.0",
      "model_name": "HTMLStyleModel",
      "state": {
       "_model_module": "@jupyter-widgets/controls",
       "_model_module_version": "2.0.0",
       "_model_name": "HTMLStyleModel",
       "_view_count": null,
       "_view_module": "@jupyter-widgets/base",
       "_view_module_version": "2.0.0",
       "_view_name": "StyleView",
       "background": null,
       "description_width": "",
       "font_size": null,
       "text_color": null
      }
     },
     "bdd87c155493497bb459a7c398c26d96": {
      "model_module": "@jupyter-widgets/controls",
      "model_module_version": "2.0.0",
      "model_name": "HTMLStyleModel",
      "state": {
       "_model_module": "@jupyter-widgets/controls",
       "_model_module_version": "2.0.0",
       "_model_name": "HTMLStyleModel",
       "_view_count": null,
       "_view_module": "@jupyter-widgets/base",
       "_view_module_version": "2.0.0",
       "_view_name": "StyleView",
       "background": null,
       "description_width": "",
       "font_size": null,
       "text_color": null
      }
     },
     "bee7aa2d66c6408797cbb07b2f11bc56": {
      "model_module": "@jupyter-widgets/controls",
      "model_module_version": "2.0.0",
      "model_name": "HTMLStyleModel",
      "state": {
       "_model_module": "@jupyter-widgets/controls",
       "_model_module_version": "2.0.0",
       "_model_name": "HTMLStyleModel",
       "_view_count": null,
       "_view_module": "@jupyter-widgets/base",
       "_view_module_version": "2.0.0",
       "_view_name": "StyleView",
       "background": null,
       "description_width": "",
       "font_size": null,
       "text_color": null
      }
     },
     "c4f84270fe21416c9ab83dbfff19d796": {
      "model_module": "@jupyter-widgets/base",
      "model_module_version": "2.0.0",
      "model_name": "LayoutModel",
      "state": {
       "_model_module": "@jupyter-widgets/base",
       "_model_module_version": "2.0.0",
       "_model_name": "LayoutModel",
       "_view_count": null,
       "_view_module": "@jupyter-widgets/base",
       "_view_module_version": "2.0.0",
       "_view_name": "LayoutView",
       "align_content": null,
       "align_items": null,
       "align_self": null,
       "border_bottom": null,
       "border_left": null,
       "border_right": null,
       "border_top": null,
       "bottom": null,
       "display": null,
       "flex": null,
       "flex_flow": null,
       "grid_area": null,
       "grid_auto_columns": null,
       "grid_auto_flow": null,
       "grid_auto_rows": null,
       "grid_column": null,
       "grid_gap": null,
       "grid_row": null,
       "grid_template_areas": null,
       "grid_template_columns": null,
       "grid_template_rows": null,
       "height": null,
       "justify_content": null,
       "justify_items": null,
       "left": null,
       "margin": null,
       "max_height": null,
       "max_width": null,
       "min_height": null,
       "min_width": null,
       "object_fit": null,
       "object_position": null,
       "order": null,
       "overflow": null,
       "padding": null,
       "right": null,
       "top": null,
       "visibility": null,
       "width": null
      }
     },
     "c6401735d1ae411eb7fd625b1a6a8144": {
      "model_module": "@jupyter-widgets/controls",
      "model_module_version": "2.0.0",
      "model_name": "HTMLModel",
      "state": {
       "_dom_classes": [],
       "_model_module": "@jupyter-widgets/controls",
       "_model_module_version": "2.0.0",
       "_model_name": "HTMLModel",
       "_view_count": null,
       "_view_module": "@jupyter-widgets/controls",
       "_view_module_version": "2.0.0",
       "_view_name": "HTMLView",
       "description": "",
       "description_allow_html": false,
       "layout": "IPY_MODEL_696ced44b7db44ccaf080fddd1c725b7",
       "placeholder": "​",
       "style": "IPY_MODEL_bdd87c155493497bb459a7c398c26d96",
       "tabbable": null,
       "tooltip": null,
       "value": "100%"
      }
     },
     "c956d41d1ef2425dae5b06f00572e455": {
      "model_module": "@jupyter-widgets/controls",
      "model_module_version": "2.0.0",
      "model_name": "HBoxModel",
      "state": {
       "_dom_classes": [],
       "_model_module": "@jupyter-widgets/controls",
       "_model_module_version": "2.0.0",
       "_model_name": "HBoxModel",
       "_view_count": null,
       "_view_module": "@jupyter-widgets/controls",
       "_view_module_version": "2.0.0",
       "_view_name": "HBoxView",
       "box_style": "",
       "children": [
        "IPY_MODEL_c6401735d1ae411eb7fd625b1a6a8144",
        "IPY_MODEL_db141f12e4cb4aa9a439ee6fb8cefc3b",
        "IPY_MODEL_f3a16a5f67864ddea8f3cb7c26869ca8"
       ],
       "layout": "IPY_MODEL_3d9a154938a14849b377c545fa4fa89a",
       "tabbable": null,
       "tooltip": null
      }
     },
     "db141f12e4cb4aa9a439ee6fb8cefc3b": {
      "model_module": "@jupyter-widgets/controls",
      "model_module_version": "2.0.0",
      "model_name": "FloatProgressModel",
      "state": {
       "_dom_classes": [],
       "_model_module": "@jupyter-widgets/controls",
       "_model_module_version": "2.0.0",
       "_model_name": "FloatProgressModel",
       "_view_count": null,
       "_view_module": "@jupyter-widgets/controls",
       "_view_module_version": "2.0.0",
       "_view_name": "ProgressView",
       "bar_style": "success",
       "description": "",
       "description_allow_html": false,
       "layout": "IPY_MODEL_c4f84270fe21416c9ab83dbfff19d796",
       "max": 746,
       "min": 0,
       "orientation": "horizontal",
       "style": "IPY_MODEL_055aec2e80e642a39092fc813ed49e2b",
       "tabbable": null,
       "tooltip": null,
       "value": 746
      }
     },
     "f13580af37eb4ff99ffa1894aa7cacb5": {
      "model_module": "@jupyter-widgets/base",
      "model_module_version": "2.0.0",
      "model_name": "LayoutModel",
      "state": {
       "_model_module": "@jupyter-widgets/base",
       "_model_module_version": "2.0.0",
       "_model_name": "LayoutModel",
       "_view_count": null,
       "_view_module": "@jupyter-widgets/base",
       "_view_module_version": "2.0.0",
       "_view_name": "LayoutView",
       "align_content": null,
       "align_items": null,
       "align_self": null,
       "border_bottom": null,
       "border_left": null,
       "border_right": null,
       "border_top": null,
       "bottom": null,
       "display": null,
       "flex": null,
       "flex_flow": null,
       "grid_area": null,
       "grid_auto_columns": null,
       "grid_auto_flow": null,
       "grid_auto_rows": null,
       "grid_column": null,
       "grid_gap": null,
       "grid_row": null,
       "grid_template_areas": null,
       "grid_template_columns": null,
       "grid_template_rows": null,
       "height": null,
       "justify_content": null,
       "justify_items": null,
       "left": null,
       "margin": null,
       "max_height": null,
       "max_width": null,
       "min_height": null,
       "min_width": null,
       "object_fit": null,
       "object_position": null,
       "order": null,
       "overflow": null,
       "padding": null,
       "right": null,
       "top": null,
       "visibility": null,
       "width": null
      }
     },
     "f3a16a5f67864ddea8f3cb7c26869ca8": {
      "model_module": "@jupyter-widgets/controls",
      "model_module_version": "2.0.0",
      "model_name": "HTMLModel",
      "state": {
       "_dom_classes": [],
       "_model_module": "@jupyter-widgets/controls",
       "_model_module_version": "2.0.0",
       "_model_name": "HTMLModel",
       "_view_count": null,
       "_view_module": "@jupyter-widgets/controls",
       "_view_module_version": "2.0.0",
       "_view_name": "HTMLView",
       "description": "",
       "description_allow_html": false,
       "layout": "IPY_MODEL_975c53ee2d464e8daeaff8653e0600c4",
       "placeholder": "​",
       "style": "IPY_MODEL_bee7aa2d66c6408797cbb07b2f11bc56",
       "tabbable": null,
       "tooltip": null,
       "value": " 746/746 [00:00&lt;00:00, 2850.28it/s]"
      }
     },
     "f8d7b905a86f40048730c2b15430f342": {
      "model_module": "@jupyter-widgets/controls",
      "model_module_version": "2.0.0",
      "model_name": "HTMLModel",
      "state": {
       "_dom_classes": [],
       "_model_module": "@jupyter-widgets/controls",
       "_model_module_version": "2.0.0",
       "_model_name": "HTMLModel",
       "_view_count": null,
       "_view_module": "@jupyter-widgets/controls",
       "_view_module_version": "2.0.0",
       "_view_name": "HTMLView",
       "description": "",
       "description_allow_html": false,
       "layout": "IPY_MODEL_732427722f484af4bfd4e3a48ec04c86",
       "placeholder": "​",
       "style": "IPY_MODEL_032228afc14b420c84f0cfff984b7540",
       "tabbable": null,
       "tooltip": null,
       "value": "100%"
      }
     },
     "ffa21cc5f11a43ec951888b03798be8a": {
      "model_module": "@jupyter-widgets/base",
      "model_module_version": "2.0.0",
      "model_name": "LayoutModel",
      "state": {
       "_model_module": "@jupyter-widgets/base",
       "_model_module_version": "2.0.0",
       "_model_name": "LayoutModel",
       "_view_count": null,
       "_view_module": "@jupyter-widgets/base",
       "_view_module_version": "2.0.0",
       "_view_name": "LayoutView",
       "align_content": null,
       "align_items": null,
       "align_self": null,
       "border_bottom": null,
       "border_left": null,
       "border_right": null,
       "border_top": null,
       "bottom": null,
       "display": null,
       "flex": null,
       "flex_flow": null,
       "grid_area": null,
       "grid_auto_columns": null,
       "grid_auto_flow": null,
       "grid_auto_rows": null,
       "grid_column": null,
       "grid_gap": null,
       "grid_row": null,
       "grid_template_areas": null,
       "grid_template_columns": null,
       "grid_template_rows": null,
       "height": null,
       "justify_content": null,
       "justify_items": null,
       "left": null,
       "margin": null,
       "max_height": null,
       "max_width": null,
       "min_height": null,
       "min_width": null,
       "object_fit": null,
       "object_position": null,
       "order": null,
       "overflow": null,
       "padding": null,
       "right": null,
       "top": null,
       "visibility": null,
       "width": null
      }
     }
    },
    "version_major": 2,
    "version_minor": 0
   }
  }
 },
 "nbformat": 4,
 "nbformat_minor": 4
}
